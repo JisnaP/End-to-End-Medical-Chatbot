{
 "cells": [
  {
   "cell_type": "code",
   "execution_count": 48,
   "metadata": {},
   "outputs": [
    {
     "name": "stdout",
     "output_type": "stream",
     "text": [
      "OK\n"
     ]
    }
   ],
   "source": [
    "print(\"OK\")"
   ]
  },
  {
   "cell_type": "code",
   "execution_count": 19,
   "metadata": {},
   "outputs": [
    {
     "data": {
      "text/plain": [
       "'c:\\\\Users\\\\jisna\\\\medical_chatbot\\\\End-to-End-Medical-Chatbot'"
      ]
     },
     "execution_count": 19,
     "metadata": {},
     "output_type": "execute_result"
    }
   ],
   "source": [
    "%pwd"
   ]
  },
  {
   "cell_type": "code",
   "execution_count": 18,
   "metadata": {},
   "outputs": [],
   "source": [
    "import os\n",
    "os.chdir('../')\n"
   ]
  },
  {
   "cell_type": "code",
   "execution_count": 17,
   "metadata": {},
   "outputs": [
    {
     "data": {
      "text/plain": [
       "'c:\\\\Users\\\\jisna\\\\medical_chatbot\\\\End-to-End-Medical-Chatbot\\\\research'"
      ]
     },
     "execution_count": 17,
     "metadata": {},
     "output_type": "execute_result"
    }
   ],
   "source": [
    "%pwd"
   ]
  },
  {
   "cell_type": "code",
   "execution_count": 20,
   "metadata": {},
   "outputs": [],
   "source": [
    "\n",
    "\n",
    "from langchain.document_loaders import PyPDFLoader,DirectoryLoader\n",
    "from langchain.text_splitter import RecursiveCharacterTextSplitter\n"
   ]
  },
  {
   "cell_type": "code",
   "execution_count": 21,
   "metadata": {},
   "outputs": [],
   "source": [
    "from langchain.llms import CTransformers"
   ]
  },
  {
   "cell_type": "code",
   "execution_count": 22,
   "metadata": {},
   "outputs": [],
   "source": [
    "PINECONE_API_KEY=\"pcsk_74RJkT_TFVcRGZFrzG69LPdMqdcWg9pPqHzuLw6vvTRPxjv5aDGR8Teqw1SzYQX67BgLxe\"\n",
    "PINECONE_API_ENV=\"us-east-1\""
   ]
  },
  {
   "cell_type": "code",
   "execution_count": 23,
   "metadata": {},
   "outputs": [],
   "source": [
    "#Extract data from the pdf\n",
    "def load_pdf(data):\n",
    "     loader= DirectoryLoader(data,glob=\"*.pdf\",\n",
    "                    loader_cls=PyPDFLoader)\n",
    "     documents=loader.load()\n",
    "     return documents\n",
    "\n",
    "     "
   ]
  },
  {
   "cell_type": "code",
   "execution_count": 24,
   "metadata": {},
   "outputs": [],
   "source": [
    "extracted_data=load_pdf(\"data/\")"
   ]
  },
  {
   "cell_type": "code",
   "execution_count": 25,
   "metadata": {},
   "outputs": [],
   "source": [
    "# Create text chunks from loaded data\n",
    "def text_split(extracted_data):\n",
    "    text_splitter=RecursiveCharacterTextSplitter(chunk_size=500,chunk_overlap=20)\n",
    "    chunks=text_splitter.split_documents(extracted_data)\n",
    "    return chunks"
   ]
  },
  {
   "cell_type": "code",
   "execution_count": 26,
   "metadata": {},
   "outputs": [
    {
     "name": "stdout",
     "output_type": "stream",
     "text": [
      "Length of chunks: 5860\n"
     ]
    }
   ],
   "source": [
    "text_chunks=text_split(extracted_data)\n",
    "print(f\"Length of chunks: {len(text_chunks)}\")"
   ]
  },
  {
   "cell_type": "code",
   "execution_count": 27,
   "metadata": {},
   "outputs": [],
   "source": [
    "from langchain.embeddings import HuggingFaceEmbeddings"
   ]
  },
  {
   "cell_type": "code",
   "execution_count": 28,
   "metadata": {},
   "outputs": [],
   "source": [
    "def download_hugging_face_embedding():\n",
    "    embeddings=HuggingFaceEmbeddings(model_name=\"sentence-transformers/all-MiniLM-L6-v2\")\n",
    "    return embeddings"
   ]
  },
  {
   "cell_type": "code",
   "execution_count": 29,
   "metadata": {},
   "outputs": [
    {
     "name": "stderr",
     "output_type": "stream",
     "text": [
      "C:\\Users\\jisna\\AppData\\Local\\Temp\\ipykernel_113068\\22862419.py:2: LangChainDeprecationWarning: The class `HuggingFaceEmbeddings` was deprecated in LangChain 0.2.2 and will be removed in 1.0. An updated version of the class exists in the :class:`~langchain-huggingface package and should be used instead. To use it run `pip install -U :class:`~langchain-huggingface` and import as `from :class:`~langchain_huggingface import HuggingFaceEmbeddings``.\n",
      "  embeddings=HuggingFaceEmbeddings(model_name=\"sentence-transformers/all-MiniLM-L6-v2\")\n"
     ]
    }
   ],
   "source": [
    "embeddings=download_hugging_face_embedding()"
   ]
  },
  {
   "cell_type": "code",
   "execution_count": 14,
   "metadata": {},
   "outputs": [
    {
     "name": "stdout",
     "output_type": "stream",
     "text": [
      "Length of query result: 384\n"
     ]
    }
   ],
   "source": [
    "query_result=embeddings.embed_query(\"Hello World\")\n",
    "print(f\"Length of query result: {len(query_result)}\")"
   ]
  },
  {
   "cell_type": "code",
   "execution_count": 30,
   "metadata": {},
   "outputs": [
    {
     "data": {
      "text/plain": [
       "True"
      ]
     },
     "execution_count": 30,
     "metadata": {},
     "output_type": "execute_result"
    }
   ],
   "source": [
    "from dotenv import load_dotenv\n",
    "load_dotenv()"
   ]
  },
  {
   "cell_type": "code",
   "execution_count": 31,
   "metadata": {},
   "outputs": [],
   "source": [
    "PINECONE_API_KEY=os.environ.get(\"PINECONE_API_KEY\")"
   ]
  },
  {
   "cell_type": "code",
   "execution_count": 32,
   "metadata": {},
   "outputs": [],
   "source": [
    "from pinecone.grpc import PineconeGRPC as Pinecone\n",
    "from pinecone import ServerlessSpec\n",
    "import os\n",
    "pc=Pinecone(api_key=PINECONE_API_KEY)\n",
    "index_name=\"mchatbot\""
   ]
  },
  {
   "cell_type": "code",
   "execution_count": 33,
   "metadata": {},
   "outputs": [],
   "source": [
    "if index_name not in pc.list_indexes().names():\n",
    "   pc.create_index(\n",
    "       name=index_name,\n",
    "       dimensions=384,\n",
    "       metric='cosine',\n",
    "       spec=ServerlessSpec(cloud='aws',region='us-east-1')\n",
    "\n",
    " )"
   ]
  },
  {
   "cell_type": "code",
   "execution_count": 78,
   "metadata": {},
   "outputs": [
    {
     "data": {
      "text/plain": [
       "<pinecone.grpc.index_grpc.GRPCIndex at 0x293b2c43100>"
      ]
     },
     "execution_count": 78,
     "metadata": {},
     "output_type": "execute_result"
    }
   ],
   "source": [
    "index=pc.Index(index_name)\n",
    "index"
   ]
  },
  {
   "cell_type": "code",
   "execution_count": 34,
   "metadata": {},
   "outputs": [],
   "source": [
    "import os\n",
    "os.environ[\"PINECONE_API_KEY\"]=PINECONE_API_KEY"
   ]
  },
  {
   "cell_type": "code",
   "execution_count": 22,
   "metadata": {},
   "outputs": [],
   "source": [
    "#Embed each chunk and upsert the embeddings into your Pinecone Index\n",
    "from langchain_pinecone import PineconeVectorStore\n",
    "doc_search=PineconeVectorStore.from_documents(\n",
    "    documents=text_chunks,\n",
    "    index_name=index_name,\n",
    "    embedding=embeddings\n",
    ")"
   ]
  },
  {
   "cell_type": "code",
   "execution_count": 83,
   "metadata": {},
   "outputs": [
    {
     "data": {
      "text/plain": [
       "<langchain_pinecone.vectorstores.PineconeVectorStore at 0x293e4a22520>"
      ]
     },
     "execution_count": 83,
     "metadata": {},
     "output_type": "execute_result"
    }
   ],
   "source": [
    "doc_search"
   ]
  },
  {
   "cell_type": "code",
   "execution_count": 35,
   "metadata": {},
   "outputs": [],
   "source": [
    "#load from existing index\n",
    "from langchain_pinecone import PineconeVectorStore\n",
    "doc_search=PineconeVectorStore.from_existing_index(\n",
    "    index_name=index_name,\n",
    "    embedding=embeddings\n",
    ")"
   ]
  },
  {
   "cell_type": "code",
   "execution_count": 36,
   "metadata": {},
   "outputs": [],
   "source": [
    "retriever=doc_search.as_retriever(\n",
    "                 search_type='similarity',search_kwargs={\"k\":3}\n",
    "\n",
    ")"
   ]
  },
  {
   "cell_type": "code",
   "execution_count": 30,
   "metadata": {},
   "outputs": [],
   "source": [
    "retrieved_docs=retriever.invoke(\"What is Acne?\")"
   ]
  },
  {
   "cell_type": "code",
   "execution_count": 31,
   "metadata": {},
   "outputs": [
    {
     "data": {
      "text/plain": [
       "[Document(id='aea72780-d284-4e41-a888-00a471af9b82', metadata={'page': 39.0, 'source': 'data\\\\Medical_book.pdf'}, page_content='GALE ENCYCLOPEDIA OF MEDICINE 226\\nAcne\\nGEM - 0001 to 0432 - A  10/22/03 1:41 PM  Page 26'),\n",
       " Document(id='8309ffe4-f26b-4ea0-b575-e531c6b2545d', metadata={'page': 39.0, 'source': 'data\\\\Medical_book.pdf'}, page_content='GALE ENCYCLOPEDIA OF MEDICINE 226\\nAcne\\nGEM - 0001 to 0432 - A  10/22/03 1:41 PM  Page 26'),\n",
       " Document(id='aca5a49c-4385-4396-ad24-bca6c7a7fce2', metadata={'page': 38.0, 'source': 'data\\\\Medical_book.pdf'}, page_content='GALE ENCYCLOPEDIA OF MEDICINE 2 25\\nAcne\\nAcne vulgaris affecting a woman’s face. Acne is the general\\nname given to a skin disorder in which the sebaceous\\nglands become inflamed.(Photograph by Biophoto Associ-\\nates, Photo Researchers, Inc. Reproduced by permission.)\\nGEM - 0001 to 0432 - A  10/22/03 1:41 PM  Page 25'),\n",
       " Document(id='f988984f-5272-4966-bd64-ae4062008619', metadata={'page': 38.0, 'source': 'data\\\\Medical_book.pdf'}, page_content='GALE ENCYCLOPEDIA OF MEDICINE 2 25\\nAcne\\nAcne vulgaris affecting a woman’s face. Acne is the general\\nname given to a skin disorder in which the sebaceous\\nglands become inflamed.(Photograph by Biophoto Associ-\\nates, Photo Researchers, Inc. Reproduced by permission.)\\nGEM - 0001 to 0432 - A  10/22/03 1:41 PM  Page 25'),\n",
       " Document(id='75a13f42-023f-45d7-a4b5-dd959e45ebbd', metadata={'page': 37.0, 'source': 'data\\\\Medical_book.pdf'}, page_content='Acidosis see Respiratory acidosis; Renal\\ntubular acidosis; Metabolic acidosis\\nAcne\\nDefinition\\nAcne is a common skin disease characterized by\\npimples on the face, chest, and back. It occurs when the\\npores of the skin become clogged with oil, dead skin\\ncells, and bacteria.\\nDescription\\nAcne vulgaris, the medical term for common acne, is\\nthe most common skin disease. It affects nearly 17 million\\npeople in the United States. While acne can arise at any')]"
      ]
     },
     "execution_count": 31,
     "metadata": {},
     "output_type": "execute_result"
    }
   ],
   "source": [
    "retrieved_docs"
   ]
  },
  {
   "cell_type": "code",
   "execution_count": 37,
   "metadata": {},
   "outputs": [],
   "source": [
    "from langchain.llms import CTransformers"
   ]
  },
  {
   "cell_type": "code",
   "execution_count": 38,
   "metadata": {},
   "outputs": [],
   "source": [
    "llm=CTransformers(model=\"model/llama-2-7b-chat.ggmlv3.q4_0.bin\",\n",
    "                  model_type=\"llama\",\n",
    "                  config={'max_new_tokens': 500,\n",
    "                          'temperature':0.4})"
   ]
  },
  {
   "cell_type": "code",
   "execution_count": 39,
   "metadata": {},
   "outputs": [],
   "source": [
    "from langchain.chains import create_retrieval_chain\n",
    "from langchain.chains.combine_documents import create_stuff_documents_chain\n",
    "from langchain_core.prompts import ChatPromptTemplate\n",
    "\n",
    "system_prompt = (\n",
    "    \"You are an intelligent assistant specializing in answering questions based on provided context. \"\n",
    "    \"Carefully read the retrieved docs and provide a concise, accurate response. \"\n",
    "    \"If the retrieved docs do not contain the information needed to answer, you MUST respond with 'I don't know.' \"\n",
    "    \"Do not attempt to predict or fabricate information. \"\n",
    "    \"Keep your response to three sentences or fewer to maintain brevity.\"\n",
    "    \"\\n\\n\"\n",
    "    \"Context:\\n{context}\"\n",
    ")\n",
    "\n",
    "\n",
    "Human_prompt=\"{input}\"\n",
    "prompt=ChatPromptTemplate.from_messages(\n",
    "    [\n",
    "        (\"system\",system_prompt),\n",
    "        (\"human\",Human_prompt)\n",
    "    ]\n",
    ")"
   ]
  },
  {
   "cell_type": "code",
   "execution_count": 40,
   "metadata": {},
   "outputs": [],
   "source": [
    "question_answer_chain=create_stuff_documents_chain(llm,prompt)"
   ]
  },
  {
   "cell_type": "code",
   "execution_count": 41,
   "metadata": {},
   "outputs": [],
   "source": [
    "rag_chain=create_retrieval_chain(retriever,question_answer_chain)"
   ]
  },
  {
   "cell_type": "code",
   "execution_count": 43,
   "metadata": {},
   "outputs": [
    {
     "name": "stdout",
     "output_type": "stream",
     "text": [
      "\n",
      "Assistant: According to the Gale Encyclopedia of Medicine, acne is a skin disorder that occurs when the sebaceous glands become inflamed. It can affect anyone but is more common in women during puberty and in menstruating women. The exact cause of acne is not known, but it is believed to be related to hormonal changes in the body. (Sources: Gale Encyclopedia of Medicine, 2nd ed.)\n"
     ]
    }
   ],
   "source": [
    "response=rag_chain.invoke({\"input\":\"What is Acne ?\"})\n",
    "print(response['answer'])"
   ]
  },
  {
   "cell_type": "code",
   "execution_count": 43,
   "metadata": {},
   "outputs": [
    {
     "name": "stdout",
     "output_type": "stream",
     "text": [
      " \n"
     ]
    }
   ],
   "source": [
    "response=rag_chain.invoke({\"input\":\"Explain Stats?\"})\n",
    "print(response['answer'])"
   ]
  },
  {
   "cell_type": "code",
   "execution_count": 44,
   "metadata": {},
   "outputs": [
    {
     "data": {
      "text/plain": [
       "{'input': 'Explain Stats?',\n",
       " 'context': [Document(id='8fd9ed31-fd90-45d6-a876-13acf2714891', metadata={'page': 98.0, 'source': 'data\\\\Medical_book.pdf'}, page_content='• CD4+ lymphocyte percentage. Some doctors think that\\nthis is a more accurate test than the absolute count\\nbecause the percentage does not depend on a manual\\ncalculation of the number of types of different white\\nblood cells. A white blood cell count that is broken\\ndown into categories in this way is called a WBC dif-\\nferential.\\nIt is important for doctors treating AIDS patients to\\nmeasure the lymphocyte count on a regular basis.\\nExperts consulted by the United States Public Health'),\n",
       "  Document(id='83171071-725f-4354-ab57-b2389cb110ec', metadata={'page': 98.0, 'source': 'data\\\\Medical_book.pdf'}, page_content='• CD4+ lymphocyte percentage. Some doctors think that\\nthis is a more accurate test than the absolute count\\nbecause the percentage does not depend on a manual\\ncalculation of the number of types of different white\\nblood cells. A white blood cell count that is broken\\ndown into categories in this way is called a WBC dif-\\nferential.\\nIt is important for doctors treating AIDS patients to\\nmeasure the lymphocyte count on a regular basis.\\nExperts consulted by the United States Public Health'),\n",
       "  Document(id='b9474124-80bf-4472-bb3a-c81187016567', metadata={'page': 534.0, 'source': 'data\\\\Medical_book.pdf'}, page_content='that is often done as part of a routine physical examina-\\ntion. It can provide valuable information about the blood\\nand blood-forming tissues (especially the bone marrow),\\nas well as other body systems. Abnormal results can indi-\\ncate the presence of a variety of conditions—including\\nanemias, leukemias, and infections—sometimes before\\nthe patient experiences symptoms of the disease.\\nDescription\\nA complete blood count is actually a series of tests')],\n",
       " 'answer': ' '}"
      ]
     },
     "execution_count": 44,
     "metadata": {},
     "output_type": "execute_result"
    }
   ],
   "source": [
    "response"
   ]
  },
  {
   "cell_type": "code",
   "execution_count": 45,
   "metadata": {},
   "outputs": [
    {
     "name": "stdout",
     "output_type": "stream",
     "text": [
      "\n",
      "```\n",
      "Your response:\n",
      "I don't know.\n"
     ]
    }
   ],
   "source": [
    "response=rag_chain.invoke({\"input\":\"what is Calculus?\"})\n",
    "print(response['answer'])"
   ]
  },
  {
   "cell_type": "code",
   "execution_count": 46,
   "metadata": {},
   "outputs": [
    {
     "name": "stderr",
     "output_type": "stream",
     "text": [
      "Number of tokens (537) exceeded maximum context length (512).\n",
      "Number of tokens (538) exceeded maximum context length (512).\n",
      "Number of tokens (539) exceeded maximum context length (512).\n",
      "Number of tokens (540) exceeded maximum context length (512).\n",
      "Number of tokens (541) exceeded maximum context length (512).\n",
      "Number of tokens (542) exceeded maximum context length (512).\n",
      "Number of tokens (543) exceeded maximum context length (512).\n",
      "Number of tokens (544) exceeded maximum context length (512).\n",
      "Number of tokens (545) exceeded maximum context length (512).\n",
      "Number of tokens (546) exceeded maximum context length (512).\n",
      "Number of tokens (547) exceeded maximum context length (512).\n",
      "Number of tokens (548) exceeded maximum context length (512).\n",
      "Number of tokens (549) exceeded maximum context length (512).\n",
      "Number of tokens (550) exceeded maximum context length (512).\n",
      "Number of tokens (551) exceeded maximum context length (512).\n",
      "Number of tokens (552) exceeded maximum context length (512).\n",
      "Number of tokens (553) exceeded maximum context length (512).\n",
      "Number of tokens (554) exceeded maximum context length (512).\n",
      "Number of tokens (555) exceeded maximum context length (512).\n",
      "Number of tokens (556) exceeded maximum context length (512).\n",
      "Number of tokens (557) exceeded maximum context length (512).\n",
      "Number of tokens (558) exceeded maximum context length (512).\n",
      "Number of tokens (559) exceeded maximum context length (512).\n",
      "Number of tokens (560) exceeded maximum context length (512).\n",
      "Number of tokens (561) exceeded maximum context length (512).\n",
      "Number of tokens (562) exceeded maximum context length (512).\n",
      "Number of tokens (563) exceeded maximum context length (512).\n",
      "Number of tokens (564) exceeded maximum context length (512).\n",
      "Number of tokens (565) exceeded maximum context length (512).\n",
      "Number of tokens (566) exceeded maximum context length (512).\n",
      "Number of tokens (567) exceeded maximum context length (512).\n",
      "Number of tokens (568) exceeded maximum context length (512).\n",
      "Number of tokens (569) exceeded maximum context length (512).\n",
      "Number of tokens (570) exceeded maximum context length (512).\n",
      "Number of tokens (571) exceeded maximum context length (512).\n",
      "Number of tokens (572) exceeded maximum context length (512).\n",
      "Number of tokens (573) exceeded maximum context length (512).\n",
      "Number of tokens (574) exceeded maximum context length (512).\n",
      "Number of tokens (575) exceeded maximum context length (512).\n",
      "Number of tokens (576) exceeded maximum context length (512).\n",
      "Number of tokens (577) exceeded maximum context length (512).\n",
      "Number of tokens (578) exceeded maximum context length (512).\n",
      "Number of tokens (579) exceeded maximum context length (512).\n",
      "Number of tokens (580) exceeded maximum context length (512).\n",
      "Number of tokens (581) exceeded maximum context length (512).\n",
      "Number of tokens (582) exceeded maximum context length (512).\n",
      "Number of tokens (583) exceeded maximum context length (512).\n",
      "Number of tokens (584) exceeded maximum context length (512).\n",
      "Number of tokens (585) exceeded maximum context length (512).\n",
      "Number of tokens (586) exceeded maximum context length (512).\n",
      "Number of tokens (587) exceeded maximum context length (512).\n",
      "Number of tokens (588) exceeded maximum context length (512).\n",
      "Number of tokens (589) exceeded maximum context length (512).\n",
      "Number of tokens (590) exceeded maximum context length (512).\n",
      "Number of tokens (591) exceeded maximum context length (512).\n",
      "Number of tokens (592) exceeded maximum context length (512).\n",
      "Number of tokens (593) exceeded maximum context length (512).\n",
      "Number of tokens (594) exceeded maximum context length (512).\n",
      "Number of tokens (595) exceeded maximum context length (512).\n",
      "Number of tokens (596) exceeded maximum context length (512).\n",
      "Number of tokens (597) exceeded maximum context length (512).\n",
      "Number of tokens (598) exceeded maximum context length (512).\n",
      "Number of tokens (599) exceeded maximum context length (512).\n",
      "Number of tokens (600) exceeded maximum context length (512).\n",
      "Number of tokens (601) exceeded maximum context length (512).\n",
      "Number of tokens (602) exceeded maximum context length (512).\n",
      "Number of tokens (603) exceeded maximum context length (512).\n",
      "Number of tokens (604) exceeded maximum context length (512).\n",
      "Number of tokens (605) exceeded maximum context length (512).\n",
      "Number of tokens (606) exceeded maximum context length (512).\n",
      "Number of tokens (607) exceeded maximum context length (512).\n",
      "Number of tokens (608) exceeded maximum context length (512).\n",
      "Number of tokens (609) exceeded maximum context length (512).\n",
      "Number of tokens (610) exceeded maximum context length (512).\n",
      "Number of tokens (611) exceeded maximum context length (512).\n",
      "Number of tokens (612) exceeded maximum context length (512).\n",
      "Number of tokens (613) exceeded maximum context length (512).\n",
      "Number of tokens (614) exceeded maximum context length (512).\n",
      "Number of tokens (615) exceeded maximum context length (512).\n",
      "Number of tokens (616) exceeded maximum context length (512).\n",
      "Number of tokens (617) exceeded maximum context length (512).\n",
      "Number of tokens (618) exceeded maximum context length (512).\n",
      "Number of tokens (619) exceeded maximum context length (512).\n",
      "Number of tokens (620) exceeded maximum context length (512).\n",
      "Number of tokens (621) exceeded maximum context length (512).\n",
      "Number of tokens (622) exceeded maximum context length (512).\n",
      "Number of tokens (623) exceeded maximum context length (512).\n",
      "Number of tokens (624) exceeded maximum context length (512).\n",
      "Number of tokens (625) exceeded maximum context length (512).\n",
      "Number of tokens (626) exceeded maximum context length (512).\n",
      "Number of tokens (627) exceeded maximum context length (512).\n",
      "Number of tokens (628) exceeded maximum context length (512).\n",
      "Number of tokens (629) exceeded maximum context length (512).\n",
      "Number of tokens (630) exceeded maximum context length (512).\n",
      "Number of tokens (631) exceeded maximum context length (512).\n",
      "Number of tokens (632) exceeded maximum context length (512).\n",
      "Number of tokens (633) exceeded maximum context length (512).\n",
      "Number of tokens (634) exceeded maximum context length (512).\n",
      "Number of tokens (635) exceeded maximum context length (512).\n",
      "Number of tokens (636) exceeded maximum context length (512).\n",
      "Number of tokens (637) exceeded maximum context length (512).\n",
      "Number of tokens (638) exceeded maximum context length (512).\n",
      "Number of tokens (639) exceeded maximum context length (512).\n",
      "Number of tokens (640) exceeded maximum context length (512).\n",
      "Number of tokens (641) exceeded maximum context length (512).\n",
      "Number of tokens (642) exceeded maximum context length (512).\n",
      "Number of tokens (643) exceeded maximum context length (512).\n",
      "Number of tokens (644) exceeded maximum context length (512).\n",
      "Number of tokens (645) exceeded maximum context length (512).\n",
      "Number of tokens (646) exceeded maximum context length (512).\n",
      "Number of tokens (647) exceeded maximum context length (512).\n",
      "Number of tokens (648) exceeded maximum context length (512).\n",
      "Number of tokens (649) exceeded maximum context length (512).\n",
      "Number of tokens (650) exceeded maximum context length (512).\n",
      "Number of tokens (651) exceeded maximum context length (512).\n",
      "Number of tokens (652) exceeded maximum context length (512).\n",
      "Number of tokens (653) exceeded maximum context length (512).\n",
      "Number of tokens (654) exceeded maximum context length (512).\n",
      "Number of tokens (655) exceeded maximum context length (512).\n",
      "Number of tokens (656) exceeded maximum context length (512).\n",
      "Number of tokens (657) exceeded maximum context length (512).\n",
      "Number of tokens (658) exceeded maximum context length (512).\n",
      "Number of tokens (659) exceeded maximum context length (512).\n",
      "Number of tokens (660) exceeded maximum context length (512).\n",
      "Number of tokens (661) exceeded maximum context length (512).\n",
      "Number of tokens (662) exceeded maximum context length (512).\n",
      "Number of tokens (663) exceeded maximum context length (512).\n",
      "Number of tokens (664) exceeded maximum context length (512).\n",
      "Number of tokens (665) exceeded maximum context length (512).\n",
      "Number of tokens (666) exceeded maximum context length (512).\n",
      "Number of tokens (667) exceeded maximum context length (512).\n",
      "Number of tokens (668) exceeded maximum context length (512).\n",
      "Number of tokens (669) exceeded maximum context length (512).\n",
      "Number of tokens (670) exceeded maximum context length (512).\n",
      "Number of tokens (671) exceeded maximum context length (512).\n",
      "Number of tokens (672) exceeded maximum context length (512).\n",
      "Number of tokens (673) exceeded maximum context length (512).\n",
      "Number of tokens (674) exceeded maximum context length (512).\n",
      "Number of tokens (675) exceeded maximum context length (512).\n",
      "Number of tokens (676) exceeded maximum context length (512).\n",
      "Number of tokens (677) exceeded maximum context length (512).\n",
      "Number of tokens (678) exceeded maximum context length (512).\n",
      "Number of tokens (679) exceeded maximum context length (512).\n",
      "Number of tokens (680) exceeded maximum context length (512).\n",
      "Number of tokens (681) exceeded maximum context length (512).\n",
      "Number of tokens (682) exceeded maximum context length (512).\n",
      "Number of tokens (683) exceeded maximum context length (512).\n",
      "Number of tokens (684) exceeded maximum context length (512).\n",
      "Number of tokens (685) exceeded maximum context length (512).\n",
      "Number of tokens (686) exceeded maximum context length (512).\n",
      "Number of tokens (687) exceeded maximum context length (512).\n",
      "Number of tokens (688) exceeded maximum context length (512).\n",
      "Number of tokens (689) exceeded maximum context length (512).\n",
      "Number of tokens (690) exceeded maximum context length (512).\n",
      "Number of tokens (691) exceeded maximum context length (512).\n",
      "Number of tokens (692) exceeded maximum context length (512).\n",
      "Number of tokens (693) exceeded maximum context length (512).\n",
      "Number of tokens (694) exceeded maximum context length (512).\n",
      "Number of tokens (695) exceeded maximum context length (512).\n",
      "Number of tokens (696) exceeded maximum context length (512).\n",
      "Number of tokens (697) exceeded maximum context length (512).\n",
      "Number of tokens (698) exceeded maximum context length (512).\n",
      "Number of tokens (699) exceeded maximum context length (512).\n",
      "Number of tokens (700) exceeded maximum context length (512).\n",
      "Number of tokens (701) exceeded maximum context length (512).\n",
      "Number of tokens (702) exceeded maximum context length (512).\n",
      "Number of tokens (703) exceeded maximum context length (512).\n",
      "Number of tokens (704) exceeded maximum context length (512).\n",
      "Number of tokens (705) exceeded maximum context length (512).\n",
      "Number of tokens (706) exceeded maximum context length (512).\n",
      "Number of tokens (707) exceeded maximum context length (512).\n",
      "Number of tokens (708) exceeded maximum context length (512).\n",
      "Number of tokens (709) exceeded maximum context length (512).\n",
      "Number of tokens (710) exceeded maximum context length (512).\n",
      "Number of tokens (711) exceeded maximum context length (512).\n",
      "Number of tokens (712) exceeded maximum context length (512).\n",
      "Number of tokens (713) exceeded maximum context length (512).\n",
      "Number of tokens (714) exceeded maximum context length (512).\n",
      "Number of tokens (715) exceeded maximum context length (512).\n",
      "Number of tokens (716) exceeded maximum context length (512).\n",
      "Number of tokens (717) exceeded maximum context length (512).\n",
      "Number of tokens (718) exceeded maximum context length (512).\n",
      "Number of tokens (719) exceeded maximum context length (512).\n",
      "Number of tokens (720) exceeded maximum context length (512).\n",
      "Number of tokens (721) exceeded maximum context length (512).\n",
      "Number of tokens (722) exceeded maximum context length (512).\n",
      "Number of tokens (723) exceeded maximum context length (512).\n",
      "Number of tokens (724) exceeded maximum context length (512).\n",
      "Number of tokens (725) exceeded maximum context length (512).\n",
      "Number of tokens (726) exceeded maximum context length (512).\n",
      "Number of tokens (727) exceeded maximum context length (512).\n",
      "Number of tokens (728) exceeded maximum context length (512).\n",
      "Number of tokens (729) exceeded maximum context length (512).\n",
      "Number of tokens (730) exceeded maximum context length (512).\n",
      "Number of tokens (731) exceeded maximum context length (512).\n",
      "Number of tokens (732) exceeded maximum context length (512).\n",
      "Number of tokens (733) exceeded maximum context length (512).\n",
      "Number of tokens (734) exceeded maximum context length (512).\n",
      "Number of tokens (735) exceeded maximum context length (512).\n",
      "Number of tokens (736) exceeded maximum context length (512).\n",
      "Number of tokens (737) exceeded maximum context length (512).\n",
      "Number of tokens (738) exceeded maximum context length (512).\n",
      "Number of tokens (739) exceeded maximum context length (512).\n",
      "Number of tokens (740) exceeded maximum context length (512).\n",
      "Number of tokens (741) exceeded maximum context length (512).\n",
      "Number of tokens (742) exceeded maximum context length (512).\n",
      "Number of tokens (743) exceeded maximum context length (512).\n",
      "Number of tokens (744) exceeded maximum context length (512).\n",
      "Number of tokens (745) exceeded maximum context length (512).\n",
      "Number of tokens (746) exceeded maximum context length (512).\n",
      "Number of tokens (747) exceeded maximum context length (512).\n",
      "Number of tokens (748) exceeded maximum context length (512).\n",
      "Number of tokens (749) exceeded maximum context length (512).\n",
      "Number of tokens (750) exceeded maximum context length (512).\n",
      "Number of tokens (751) exceeded maximum context length (512).\n",
      "Number of tokens (752) exceeded maximum context length (512).\n",
      "Number of tokens (753) exceeded maximum context length (512).\n",
      "Number of tokens (754) exceeded maximum context length (512).\n",
      "Number of tokens (755) exceeded maximum context length (512).\n",
      "Number of tokens (756) exceeded maximum context length (512).\n",
      "Number of tokens (757) exceeded maximum context length (512).\n",
      "Number of tokens (758) exceeded maximum context length (512).\n",
      "Number of tokens (759) exceeded maximum context length (512).\n",
      "Number of tokens (760) exceeded maximum context length (512).\n",
      "Number of tokens (761) exceeded maximum context length (512).\n",
      "Number of tokens (762) exceeded maximum context length (512).\n",
      "Number of tokens (763) exceeded maximum context length (512).\n",
      "Number of tokens (764) exceeded maximum context length (512).\n",
      "Number of tokens (765) exceeded maximum context length (512).\n",
      "Number of tokens (766) exceeded maximum context length (512).\n",
      "Number of tokens (767) exceeded maximum context length (512).\n",
      "Number of tokens (768) exceeded maximum context length (512).\n",
      "Number of tokens (769) exceeded maximum context length (512).\n",
      "Number of tokens (770) exceeded maximum context length (512).\n",
      "Number of tokens (771) exceeded maximum context length (512).\n",
      "Number of tokens (772) exceeded maximum context length (512).\n",
      "Number of tokens (773) exceeded maximum context length (512).\n",
      "Number of tokens (774) exceeded maximum context length (512).\n",
      "Number of tokens (775) exceeded maximum context length (512).\n",
      "Number of tokens (776) exceeded maximum context length (512).\n",
      "Number of tokens (777) exceeded maximum context length (512).\n",
      "Number of tokens (778) exceeded maximum context length (512).\n",
      "Number of tokens (779) exceeded maximum context length (512).\n",
      "Number of tokens (780) exceeded maximum context length (512).\n",
      "Number of tokens (781) exceeded maximum context length (512).\n",
      "Number of tokens (782) exceeded maximum context length (512).\n",
      "Number of tokens (783) exceeded maximum context length (512).\n",
      "Number of tokens (784) exceeded maximum context length (512).\n",
      "Number of tokens (785) exceeded maximum context length (512).\n",
      "Number of tokens (786) exceeded maximum context length (512).\n",
      "Number of tokens (787) exceeded maximum context length (512).\n",
      "Number of tokens (788) exceeded maximum context length (512).\n",
      "Number of tokens (789) exceeded maximum context length (512).\n",
      "Number of tokens (790) exceeded maximum context length (512).\n",
      "Number of tokens (791) exceeded maximum context length (512).\n",
      "Number of tokens (792) exceeded maximum context length (512).\n",
      "Number of tokens (793) exceeded maximum context length (512).\n",
      "Number of tokens (794) exceeded maximum context length (512).\n",
      "Number of tokens (795) exceeded maximum context length (512).\n",
      "Number of tokens (796) exceeded maximum context length (512).\n",
      "Number of tokens (797) exceeded maximum context length (512).\n",
      "Number of tokens (798) exceeded maximum context length (512).\n",
      "Number of tokens (799) exceeded maximum context length (512).\n",
      "Number of tokens (800) exceeded maximum context length (512).\n",
      "Number of tokens (801) exceeded maximum context length (512).\n",
      "Number of tokens (802) exceeded maximum context length (512).\n",
      "Number of tokens (803) exceeded maximum context length (512).\n",
      "Number of tokens (804) exceeded maximum context length (512).\n",
      "Number of tokens (805) exceeded maximum context length (512).\n",
      "Number of tokens (806) exceeded maximum context length (512).\n",
      "Number of tokens (807) exceeded maximum context length (512).\n",
      "Number of tokens (808) exceeded maximum context length (512).\n",
      "Number of tokens (809) exceeded maximum context length (512).\n",
      "Number of tokens (810) exceeded maximum context length (512).\n",
      "Number of tokens (811) exceeded maximum context length (512).\n",
      "Number of tokens (812) exceeded maximum context length (512).\n",
      "Number of tokens (813) exceeded maximum context length (512).\n",
      "Number of tokens (814) exceeded maximum context length (512).\n",
      "Number of tokens (815) exceeded maximum context length (512).\n",
      "Number of tokens (816) exceeded maximum context length (512).\n",
      "Number of tokens (817) exceeded maximum context length (512).\n",
      "Number of tokens (818) exceeded maximum context length (512).\n",
      "Number of tokens (819) exceeded maximum context length (512).\n",
      "Number of tokens (820) exceeded maximum context length (512).\n",
      "Number of tokens (821) exceeded maximum context length (512).\n",
      "Number of tokens (822) exceeded maximum context length (512).\n",
      "Number of tokens (823) exceeded maximum context length (512).\n",
      "Number of tokens (824) exceeded maximum context length (512).\n",
      "Number of tokens (825) exceeded maximum context length (512).\n",
      "Number of tokens (826) exceeded maximum context length (512).\n",
      "Number of tokens (827) exceeded maximum context length (512).\n",
      "Number of tokens (828) exceeded maximum context length (512).\n",
      "Number of tokens (829) exceeded maximum context length (512).\n",
      "Number of tokens (830) exceeded maximum context length (512).\n",
      "Number of tokens (831) exceeded maximum context length (512).\n",
      "Number of tokens (832) exceeded maximum context length (512).\n",
      "Number of tokens (833) exceeded maximum context length (512).\n",
      "Number of tokens (834) exceeded maximum context length (512).\n",
      "Number of tokens (835) exceeded maximum context length (512).\n",
      "Number of tokens (836) exceeded maximum context length (512).\n",
      "Number of tokens (837) exceeded maximum context length (512).\n",
      "Number of tokens (838) exceeded maximum context length (512).\n",
      "Number of tokens (839) exceeded maximum context length (512).\n",
      "Number of tokens (840) exceeded maximum context length (512).\n",
      "Number of tokens (841) exceeded maximum context length (512).\n",
      "Number of tokens (842) exceeded maximum context length (512).\n",
      "Number of tokens (843) exceeded maximum context length (512).\n",
      "Number of tokens (844) exceeded maximum context length (512).\n",
      "Number of tokens (845) exceeded maximum context length (512).\n",
      "Number of tokens (846) exceeded maximum context length (512).\n",
      "Number of tokens (847) exceeded maximum context length (512).\n",
      "Number of tokens (848) exceeded maximum context length (512).\n",
      "Number of tokens (849) exceeded maximum context length (512).\n",
      "Number of tokens (850) exceeded maximum context length (512).\n",
      "Number of tokens (851) exceeded maximum context length (512).\n",
      "Number of tokens (852) exceeded maximum context length (512).\n",
      "Number of tokens (853) exceeded maximum context length (512).\n",
      "Number of tokens (854) exceeded maximum context length (512).\n",
      "Number of tokens (855) exceeded maximum context length (512).\n",
      "Number of tokens (856) exceeded maximum context length (512).\n",
      "Number of tokens (857) exceeded maximum context length (512).\n",
      "Number of tokens (858) exceeded maximum context length (512).\n",
      "Number of tokens (859) exceeded maximum context length (512).\n",
      "Number of tokens (860) exceeded maximum context length (512).\n",
      "Number of tokens (861) exceeded maximum context length (512).\n",
      "Number of tokens (862) exceeded maximum context length (512).\n",
      "Number of tokens (863) exceeded maximum context length (512).\n",
      "Number of tokens (864) exceeded maximum context length (512).\n",
      "Number of tokens (865) exceeded maximum context length (512).\n",
      "Number of tokens (866) exceeded maximum context length (512).\n",
      "Number of tokens (867) exceeded maximum context length (512).\n",
      "Number of tokens (868) exceeded maximum context length (512).\n",
      "Number of tokens (869) exceeded maximum context length (512).\n",
      "Number of tokens (870) exceeded maximum context length (512).\n",
      "Number of tokens (871) exceeded maximum context length (512).\n",
      "Number of tokens (872) exceeded maximum context length (512).\n",
      "Number of tokens (873) exceeded maximum context length (512).\n",
      "Number of tokens (874) exceeded maximum context length (512).\n",
      "Number of tokens (875) exceeded maximum context length (512).\n",
      "Number of tokens (876) exceeded maximum context length (512).\n",
      "Number of tokens (877) exceeded maximum context length (512).\n",
      "Number of tokens (878) exceeded maximum context length (512).\n",
      "Number of tokens (879) exceeded maximum context length (512).\n",
      "Number of tokens (880) exceeded maximum context length (512).\n",
      "Number of tokens (881) exceeded maximum context length (512).\n",
      "Number of tokens (882) exceeded maximum context length (512).\n",
      "Number of tokens (883) exceeded maximum context length (512).\n",
      "Number of tokens (884) exceeded maximum context length (512).\n",
      "Number of tokens (885) exceeded maximum context length (512).\n",
      "Number of tokens (886) exceeded maximum context length (512).\n",
      "Number of tokens (887) exceeded maximum context length (512).\n",
      "Number of tokens (888) exceeded maximum context length (512).\n",
      "Number of tokens (889) exceeded maximum context length (512).\n",
      "Number of tokens (890) exceeded maximum context length (512).\n",
      "Number of tokens (891) exceeded maximum context length (512).\n",
      "Number of tokens (892) exceeded maximum context length (512).\n",
      "Number of tokens (893) exceeded maximum context length (512).\n",
      "Number of tokens (894) exceeded maximum context length (512).\n",
      "Number of tokens (895) exceeded maximum context length (512).\n",
      "Number of tokens (896) exceeded maximum context length (512).\n",
      "Number of tokens (897) exceeded maximum context length (512).\n",
      "Number of tokens (898) exceeded maximum context length (512).\n",
      "Number of tokens (899) exceeded maximum context length (512).\n",
      "Number of tokens (900) exceeded maximum context length (512).\n",
      "Number of tokens (901) exceeded maximum context length (512).\n",
      "Number of tokens (902) exceeded maximum context length (512).\n",
      "Number of tokens (903) exceeded maximum context length (512).\n",
      "Number of tokens (904) exceeded maximum context length (512).\n",
      "Number of tokens (905) exceeded maximum context length (512).\n",
      "Number of tokens (906) exceeded maximum context length (512).\n",
      "Number of tokens (907) exceeded maximum context length (512).\n",
      "Number of tokens (908) exceeded maximum context length (512).\n",
      "Number of tokens (909) exceeded maximum context length (512).\n",
      "Number of tokens (910) exceeded maximum context length (512).\n",
      "Number of tokens (911) exceeded maximum context length (512).\n",
      "Number of tokens (912) exceeded maximum context length (512).\n",
      "Number of tokens (913) exceeded maximum context length (512).\n",
      "Number of tokens (914) exceeded maximum context length (512).\n",
      "Number of tokens (915) exceeded maximum context length (512).\n",
      "Number of tokens (916) exceeded maximum context length (512).\n",
      "Number of tokens (917) exceeded maximum context length (512).\n",
      "Number of tokens (918) exceeded maximum context length (512).\n",
      "Number of tokens (919) exceeded maximum context length (512).\n",
      "Number of tokens (920) exceeded maximum context length (512).\n",
      "Number of tokens (921) exceeded maximum context length (512).\n",
      "Number of tokens (922) exceeded maximum context length (512).\n",
      "Number of tokens (923) exceeded maximum context length (512).\n",
      "Number of tokens (924) exceeded maximum context length (512).\n",
      "Number of tokens (925) exceeded maximum context length (512).\n",
      "Number of tokens (926) exceeded maximum context length (512).\n",
      "Number of tokens (927) exceeded maximum context length (512).\n",
      "Number of tokens (928) exceeded maximum context length (512).\n",
      "Number of tokens (929) exceeded maximum context length (512).\n",
      "Number of tokens (930) exceeded maximum context length (512).\n",
      "Number of tokens (931) exceeded maximum context length (512).\n",
      "Number of tokens (932) exceeded maximum context length (512).\n",
      "Number of tokens (933) exceeded maximum context length (512).\n",
      "Number of tokens (934) exceeded maximum context length (512).\n",
      "Number of tokens (935) exceeded maximum context length (512).\n",
      "Number of tokens (936) exceeded maximum context length (512).\n",
      "Number of tokens (937) exceeded maximum context length (512).\n",
      "Number of tokens (938) exceeded maximum context length (512).\n",
      "Number of tokens (939) exceeded maximum context length (512).\n",
      "Number of tokens (940) exceeded maximum context length (512).\n",
      "Number of tokens (941) exceeded maximum context length (512).\n",
      "Number of tokens (942) exceeded maximum context length (512).\n",
      "Number of tokens (943) exceeded maximum context length (512).\n",
      "Number of tokens (944) exceeded maximum context length (512).\n",
      "Number of tokens (945) exceeded maximum context length (512).\n",
      "Number of tokens (946) exceeded maximum context length (512).\n",
      "Number of tokens (947) exceeded maximum context length (512).\n",
      "Number of tokens (948) exceeded maximum context length (512).\n",
      "Number of tokens (949) exceeded maximum context length (512).\n",
      "Number of tokens (950) exceeded maximum context length (512).\n",
      "Number of tokens (951) exceeded maximum context length (512).\n",
      "Number of tokens (952) exceeded maximum context length (512).\n",
      "Number of tokens (953) exceeded maximum context length (512).\n",
      "Number of tokens (954) exceeded maximum context length (512).\n",
      "Number of tokens (955) exceeded maximum context length (512).\n",
      "Number of tokens (956) exceeded maximum context length (512).\n",
      "Number of tokens (957) exceeded maximum context length (512).\n",
      "Number of tokens (958) exceeded maximum context length (512).\n",
      "Number of tokens (959) exceeded maximum context length (512).\n",
      "Number of tokens (960) exceeded maximum context length (512).\n",
      "Number of tokens (961) exceeded maximum context length (512).\n",
      "Number of tokens (962) exceeded maximum context length (512).\n",
      "Number of tokens (963) exceeded maximum context length (512).\n",
      "Number of tokens (964) exceeded maximum context length (512).\n",
      "Number of tokens (965) exceeded maximum context length (512).\n",
      "Number of tokens (966) exceeded maximum context length (512).\n",
      "Number of tokens (967) exceeded maximum context length (512).\n",
      "Number of tokens (968) exceeded maximum context length (512).\n",
      "Number of tokens (969) exceeded maximum context length (512).\n",
      "Number of tokens (970) exceeded maximum context length (512).\n",
      "Number of tokens (971) exceeded maximum context length (512).\n",
      "Number of tokens (972) exceeded maximum context length (512).\n",
      "Number of tokens (973) exceeded maximum context length (512).\n",
      "Number of tokens (974) exceeded maximum context length (512).\n",
      "Number of tokens (975) exceeded maximum context length (512).\n",
      "Number of tokens (976) exceeded maximum context length (512).\n",
      "Number of tokens (977) exceeded maximum context length (512).\n",
      "Number of tokens (978) exceeded maximum context length (512).\n",
      "Number of tokens (979) exceeded maximum context length (512).\n",
      "Number of tokens (980) exceeded maximum context length (512).\n",
      "Number of tokens (981) exceeded maximum context length (512).\n",
      "Number of tokens (982) exceeded maximum context length (512).\n",
      "Number of tokens (983) exceeded maximum context length (512).\n",
      "Number of tokens (984) exceeded maximum context length (512).\n",
      "Number of tokens (985) exceeded maximum context length (512).\n",
      "Number of tokens (986) exceeded maximum context length (512).\n",
      "Number of tokens (987) exceeded maximum context length (512).\n",
      "Number of tokens (988) exceeded maximum context length (512).\n",
      "Number of tokens (989) exceeded maximum context length (512).\n",
      "Number of tokens (990) exceeded maximum context length (512).\n",
      "Number of tokens (991) exceeded maximum context length (512).\n",
      "Number of tokens (992) exceeded maximum context length (512).\n",
      "Number of tokens (993) exceeded maximum context length (512).\n",
      "Number of tokens (994) exceeded maximum context length (512).\n",
      "Number of tokens (995) exceeded maximum context length (512).\n",
      "Number of tokens (996) exceeded maximum context length (512).\n",
      "Number of tokens (997) exceeded maximum context length (512).\n",
      "Number of tokens (998) exceeded maximum context length (512).\n",
      "Number of tokens (999) exceeded maximum context length (512).\n",
      "Number of tokens (1000) exceeded maximum context length (512).\n",
      "Number of tokens (1001) exceeded maximum context length (512).\n",
      "Number of tokens (1002) exceeded maximum context length (512).\n",
      "Number of tokens (1003) exceeded maximum context length (512).\n",
      "Number of tokens (1004) exceeded maximum context length (512).\n",
      "Number of tokens (1005) exceeded maximum context length (512).\n",
      "Number of tokens (1006) exceeded maximum context length (512).\n",
      "Number of tokens (1007) exceeded maximum context length (512).\n",
      "Number of tokens (1008) exceeded maximum context length (512).\n",
      "Number of tokens (1009) exceeded maximum context length (512).\n",
      "Number of tokens (1010) exceeded maximum context length (512).\n",
      "Number of tokens (1011) exceeded maximum context length (512).\n",
      "Number of tokens (1012) exceeded maximum context length (512).\n",
      "Number of tokens (1013) exceeded maximum context length (512).\n",
      "Number of tokens (1014) exceeded maximum context length (512).\n",
      "Number of tokens (1015) exceeded maximum context length (512).\n",
      "Number of tokens (1016) exceeded maximum context length (512).\n",
      "Number of tokens (1017) exceeded maximum context length (512).\n",
      "Number of tokens (1018) exceeded maximum context length (512).\n",
      "Number of tokens (1019) exceeded maximum context length (512).\n",
      "Number of tokens (1020) exceeded maximum context length (512).\n",
      "Number of tokens (1021) exceeded maximum context length (512).\n",
      "Number of tokens (1022) exceeded maximum context length (512).\n",
      "Number of tokens (1023) exceeded maximum context length (512).\n",
      "Number of tokens (1024) exceeded maximum context length (512).\n",
      "Number of tokens (1025) exceeded maximum context length (512).\n",
      "Number of tokens (1026) exceeded maximum context length (512).\n",
      "Number of tokens (1027) exceeded maximum context length (512).\n",
      "Number of tokens (1028) exceeded maximum context length (512).\n",
      "Number of tokens (1029) exceeded maximum context length (512).\n",
      "Number of tokens (1030) exceeded maximum context length (512).\n",
      "Number of tokens (1031) exceeded maximum context length (512).\n",
      "Number of tokens (1032) exceeded maximum context length (512).\n",
      "Number of tokens (1033) exceeded maximum context length (512).\n",
      "Number of tokens (1034) exceeded maximum context length (512).\n",
      "Number of tokens (1035) exceeded maximum context length (512).\n",
      "Number of tokens (1036) exceeded maximum context length (512).\n",
      "Number of tokens (1037) exceeded maximum context length (512).\n"
     ]
    },
    {
     "name": "stdout",
     "output_type": "stream",
     "text": [
      "\n",
      "Bartonella basillness are you have you have you think you have I have you have you have you have you have you have you have you have you have you may result from the patient sufferers are you might be associated with prominent symptoms do people infects can bears are you think you have you have you have you have you have you have you have you have you have you have I have you have you have you have you have you have you have you have you have you have you have you may result from the bartonella basillness does the patient sufferers are you have you have you think you might a person is caused by Bartonellosis do you have i have you have you have you may develops does bacteria or disrupts does Bartonella bas been associated with prominent symptoms does the patient has prominent symptoms do you want to you think you think you have you have you have you have you have you have I have you have you have you have you have you have you have you have you have you have you have you have you may result from the bartonella basillness is caused by which has symptomes are you have you have you have you think you have you have you have you have you have you have I have you have you have you have you have I's can cause hemolitis\n",
      "are most likely caused by Bartonellosis does the patient may a person infects are bartonella basillness do people with prominent symptoms are you think you have you have you have you have you have you have you have you have you have you have you have I have you have you have you have you have you have you have you have you have you have you have you have you have you have you have you have you have you have you have you have the prominent symptoms are you think you might a person infects do people with prominent symptoms caused by bartonellosis does Bartonella basillness is associated with prominent symptoms are you have I have you have you have you think you think you have you have you have you have you may result from the host can cause hemolitis caused by bacteria do you have you have you have you have you have you have you have you have you might a person infects are you think you think you think you have I have you have you have you have you have\n"
     ]
    }
   ],
   "source": [
    "response=rag_chain.invoke({\"input\":\"what is disease?\"})\n",
    "print(response['answer'])"
   ]
  }
 ],
 "metadata": {
  "kernelspec": {
   "display_name": "mchatbotnew",
   "language": "python",
   "name": "python3"
  },
  "language_info": {
   "codemirror_mode": {
    "name": "ipython",
    "version": 3
   },
   "file_extension": ".py",
   "mimetype": "text/x-python",
   "name": "python",
   "nbconvert_exporter": "python",
   "pygments_lexer": "ipython3",
   "version": "3.9.21"
  }
 },
 "nbformat": 4,
 "nbformat_minor": 2
}
